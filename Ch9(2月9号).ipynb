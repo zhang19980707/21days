{
 "cells": [
  {
   "cell_type": "markdown",
   "metadata": {},
   "source": [
    "# 第九章 迭代器"
   ]
  },
  {
   "cell_type": "code",
   "execution_count": 1,
   "metadata": {},
   "outputs": [
    {
     "name": "stdout",
     "output_type": "stream",
     "text": [
      "本次迭代函数值： 2\n",
      "本次迭代函数值： 4\n",
      "本次迭代函数值： 6\n"
     ]
    }
   ],
   "source": [
    "# 演示内置产生迭代函数iter()\n",
    "# p111 【实例9-2】\n",
    "class Counter:\n",
    "    def __init__(self, x=0):\n",
    "        self.x = x\n",
    "        \n",
    "counter = Counter()\n",
    "\n",
    "def used_iter():\n",
    "    counter.x += 2\n",
    "    return counter.x\n",
    "\n",
    "for i in iter(used_iter, 8):\n",
    "    print('本次迭代函数值：', i)"
   ]
  },
  {
   "cell_type": "code",
   "execution_count": null,
   "metadata": {
    "collapsed": true
   },
   "outputs": [],
   "source": []
  }
 ],
 "metadata": {
  "kernelspec": {
   "display_name": "Python 3",
   "language": "python",
   "name": "python3"
  },
  "language_info": {
   "codemirror_mode": {
    "name": "ipython",
    "version": 3
   },
   "file_extension": ".py",
   "mimetype": "text/x-python",
   "name": "python",
   "nbconvert_exporter": "python",
   "pygments_lexer": "ipython3",
   "version": "3.6.2"
  }
 },
 "nbformat": 4,
 "nbformat_minor": 2
}
